{
 "cells": [
  {
   "cell_type": "code",
   "execution_count": 18,
   "id": "f5868b5a",
   "metadata": {},
   "outputs": [],
   "source": [
    "import os,shutil"
   ]
  },
  {
   "cell_type": "code",
   "execution_count": 19,
   "id": "d81ff4a8",
   "metadata": {},
   "outputs": [],
   "source": [
    "#This is the common path of all files\n",
    "path = r\"C:/Users/kumar/Downloads/python/\""
   ]
  },
  {
   "cell_type": "code",
   "execution_count": 20,
   "id": "4cf2ef17",
   "metadata": {},
   "outputs": [],
   "source": [
    "#this will list all files of this path\n",
    "all_files = os.listdir(path)"
   ]
  },
  {
   "cell_type": "code",
   "execution_count": 21,
   "id": "87a40e1f",
   "metadata": {},
   "outputs": [],
   "source": [
    "#creating a list of specific folder names\n",
    "folder_names = ['csv files','image files','text files']\n",
    "for folder in range(0,3):\n",
    "    #if those folders don't exist in the common folder, it will create them\n",
    "    if not os.path.exists(path + folder_names[folder]):\n",
    "        os.makedirs(path + folder_names[folder])"
   ]
  },
  {
   "cell_type": "code",
   "execution_count": 22,
   "id": "65d5ec89",
   "metadata": {},
   "outputs": [],
   "source": [
    "#if the specific file exists in common folder and not exists in the specific folder, move the file into the specific folder\n",
    "for file in all_files:\n",
    "    if \".csv\" in file and not os.path.exists(path + \"csv files/\" + file):\n",
    "        shutil.move(path + file, path + \"csv files/\" + file)\n",
    "    elif \".png\" in file and not os.path.exists(path + \"image files/\" + file):\n",
    "        shutil.move(path + file, path + \"image files/\" + file)\n",
    "    if \".txt\" in file and not os.path.exists(path + \"text files/\" + file):\n",
    "        shutil.move(path + file, path + \"text files/\" + file)"
   ]
  },
  {
   "cell_type": "code",
   "execution_count": null,
   "id": "4e8b364b",
   "metadata": {},
   "outputs": [],
   "source": []
  }
 ],
 "metadata": {
  "kernelspec": {
   "display_name": "Python 3 (ipykernel)",
   "language": "python",
   "name": "python3"
  },
  "language_info": {
   "codemirror_mode": {
    "name": "ipython",
    "version": 3
   },
   "file_extension": ".py",
   "mimetype": "text/x-python",
   "name": "python",
   "nbconvert_exporter": "python",
   "pygments_lexer": "ipython3",
   "version": "3.10.9"
  }
 },
 "nbformat": 4,
 "nbformat_minor": 5
}
